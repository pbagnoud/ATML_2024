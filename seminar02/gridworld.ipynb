{
 "cells": [
  {
   "cell_type": "markdown",
   "metadata": {},
   "source": [
    "# Gridworld"
   ]
  },
  {
   "attachments": {},
   "cell_type": "markdown",
   "metadata": {},
   "source": [
    "### Description"
   ]
  },
  {
   "attachments": {},
   "cell_type": "markdown",
   "metadata": {},
   "source": [
    "In this seminar we implement an example of the agent-environment interface used in reinforcement learning, called \"gridworld\".\n",
    "\n",
    "The world consists of an $n \\times m$ grid of squares, indexed by $(i,j)$ with $i = 0, 1, \\dots, n-1$ and $j = 0, 1, \\dots, m-1$.\n",
    "\n",
    "The state of the environment consists of the player being in one of the squares.\n",
    "\n",
    "The possible actions are steps in the directions \"UP\", \"RIGHT\", \"DOWN\", \"LEFT\".\n",
    "\n",
    "The rewards and states after each action can depend on multiple factors:\n",
    "- Some squares can give positive/negative rewards\n",
    "- Squares might be \"blocked\" and not possible to step on\n",
    "- Stepping off the board is impossible\n",
    "- Invalid moves might give a negative reward as \"punishment\"\n",
    "- There might be \"portals\" that take the player to a distant square, regardless of their action\n",
    "- There might be deterministic or random effects that change the outcome of actions, e.g. \"wind\" or \"ice\"."
   ]
  },
  {
   "attachments": {},
   "cell_type": "markdown",
   "metadata": {},
   "source": [
    "Variants of this gridworld can be used to illustrate a wide range of concepts and algorithms in reinforcement learning.\n",
    "For instance, in [Sutton & Barto](http://incompleteideas.net/book/the-book-2nd.html) see:\n",
    "- Example 3.5, 3.8\n",
    "- Figure 4.1\n",
    "- Example 6.5, 6.6\n",
    "- Figure 7.4\n",
    "- Example 8.1, 8.3\n"
   ]
  },
  {
   "attachments": {},
   "cell_type": "markdown",
   "metadata": {},
   "source": [
    "You can either implement this class in a separate module (recommended) or inside a Jupyter cell, see `reuseCode.ipynb` for details."
   ]
  },
  {
   "cell_type": "code",
   "execution_count": 1,
   "metadata": {},
   "outputs": [],
   "source": [
    "import numpy as np\n",
    "import random"
   ]
  },
  {
   "attachments": {},
   "cell_type": "markdown",
   "metadata": {},
   "source": [
    "### Implementation"
   ]
  },
  {
   "attachments": {},
   "cell_type": "markdown",
   "metadata": {},
   "source": [
    "Below is a suggested skeleton of a `GridWorld` class, feel free to modify or rename everything.\n",
    "If you want to implement this class in a separate module, create a new file `gridworld.py`, copy the code there, and delete this code cell."
   ]
  },
  {
   "cell_type": "code",
   "execution_count": 2,
   "metadata": {},
   "outputs": [],
   "source": [
    "RIGHT= np.array([1,0])\n",
    "LEFT = np.array([-1,0])\n",
    "UP= np.array([0,1])\n",
    "DOWN = np.array([0,-1])\n",
    "DIRECTION = (RIGHT,LEFT,UP,DOWN)\n",
    "\n",
    "class GridWorld:\n",
    "\n",
    "    def __init__(self, height, width):\n",
    "        # Store the height and width as attributes\n",
    "        self.height = height\n",
    "        self.width = width\n",
    "\n",
    "        self.teleportation = dict()\n",
    "        self.rewardPlace = dict()\n",
    "        self.forbiddenPlace = list()\n",
    "        self.blockedPlace = list()\n",
    "        self.setBorder()\n",
    "        self.totalReward = 0\n",
    "        self.icePlace= list()\n",
    "        self.windPlace = list()\n",
    "        # Initialize the player position\n",
    "        self.pos = np.array([0,0])\n",
    "        \n",
    "    def setBorder(self):\n",
    "        for i in range(self.height):\n",
    "            self.forbiddenPlace.append(np.array([-1,i]))\n",
    "            self.forbiddenPlace.append(np.array([self.width,i]))\n",
    "        for i in range(self.width):\n",
    "            self.forbiddenPlace.append(np.array([i,-1]))\n",
    "            self.forbiddenPlace.append(np.array([i,self.height]))\n",
    "\n",
    "    # A method to perform an action:\n",
    "    def step(self,action,returnIfBlocked=False):\n",
    "        print(self.pos + action)\n",
    "        if not (any( (self.pos + action == place ).all() for place in self.forbiddenPlace)):\n",
    "            self.pos += action\n",
    "        else: #when blocked\n",
    "            self.totalReward += -1\n",
    "            print(self.totalReward)\n",
    "            if returnIfBlocked:\n",
    "                return\n",
    "        \n",
    "        #when ice\n",
    "        for place in self.icePlace:\n",
    "            if np.array_equal(self.pos,place):\n",
    "                print(\"icy\")\n",
    "                self.step(action,True)\n",
    "        #when wind\n",
    "        for place in self.windPlace:\n",
    "            if np.array_equal(self.pos,place):\n",
    "                print(\"windy\")\n",
    "                self.step(random.choice(DIRECTION),True)\n",
    "\n",
    "        #when teleport\n",
    "        for place in self.teleportation:\n",
    "            if np.array_equal(self.pos, np.array(place)) :\n",
    "                print(\"teleport\")\n",
    "                self.pos = self.teleportation[place]\n",
    "                self.totalReward += self.rewardPlace[place]\n",
    "\n",
    "    #     ...\n",
    "    def setForbidden(self,place):\n",
    "        self.forbiddenPlace.append(np.array(place))\n",
    "        self.blockedPlace.append(np.array(place))\n",
    "    def setIce(self,place):\n",
    "        self.icePlace.append(np.array(place))\n",
    "    def setWind(self,place):\n",
    "        self.windPlace.append(np.array(place))\n",
    "    def setTeleportation(self,origin ,destination ,reward = 0):\n",
    "        origin = tuple(origin)\n",
    "        destination = np.array(destination)\n",
    "        self.teleportation[origin]=destination\n",
    "        self.rewardPlace[origin] = reward\n",
    "\n",
    "    # A method to reset the gridworld:\n",
    "    def reset(self):\n",
    "        self.pos = np.array([0,0])\n",
    "    \n",
    "    \n",
    "    # A method to output the world:\n",
    "    def drawWorld(self):\n",
    "        print(self)\n",
    "    \n",
    "    def giveIndex(self,array):\n",
    "        return [int(self.height-list(array)[1]-1),int(list(array)[0])]\n",
    "    #string implementation\n",
    "    def __str__(self) -> str:\n",
    "        worldRepresentation = [[\"X\" if np.array_equal(([x,y]), self.pos) else \"_\" for x in range(self.width)] for y in reversed(range(self.height))]\n",
    "\n",
    "        #show special place\n",
    "        for teleportStart, teleportFinish in self.teleportation.items():\n",
    "            worldRepresentation[self.giveIndex(teleportStart)[0]][self.giveIndex(teleportStart)[1]] = \"S\"\n",
    "            worldRepresentation[self.giveIndex(teleportFinish)[0]][self.giveIndex(teleportFinish)[1]] = \"F\"\n",
    "\n",
    "        for blockedPosition in self.blockedPlace:\n",
    "            worldRepresentation[self.giveIndex(blockedPosition)[0]][self.giveIndex(blockedPosition)[1]] = \"B\"\n",
    "\n",
    "        for icePosition in self.icePlace:\n",
    "            worldRepresentation[self.giveIndex(icePosition)[0]][self.giveIndex(icePosition)[1]] = \"I\"\n",
    "        for windPosition in self.windPlace:\n",
    "            worldRepresentation[self.giveIndex(windPosition)[0]][self.giveIndex(windPosition)[1]] = \"W\"\n",
    "\n",
    "        #redraw X, in case it was erased\n",
    "        worldRepresentation[self.giveIndex(self.pos)[0]][self.giveIndex(self.pos)[1]] = \"X\"\n",
    "\n",
    "        worldRepresentation = [\" \".join(line) for line in worldRepresentation]\n",
    "        return \"\\n\".join(worldRepresentation)\n",
    "    \n",
    "    # (!) More difficult:\n",
    "    # A method to interactively \"play\" in the gridworld:\n",
    "    # def play(??):\n",
    "    #     ...\n",
    "    \n",
    "\n",
    "    # Any other method that might be useful to the user\n",
    "    # ...\n",
    "\n",
    "    # Any \"helper\" methods you use internally\n",
    "    # ..."
   ]
  },
  {
   "attachments": {},
   "cell_type": "markdown",
   "metadata": {},
   "source": [
    "Once you have implemented the basic methods above, you should be able to walk around in an empty gridworld! 🎉\n",
    "\n",
    "To make things more interesting, implement for example:\n",
    "- Positive rewards for reaching certain squares\n",
    "- Negative rewards for \"illegal\" moves\n",
    "- Blocked squares that cannot be entered\n",
    "- Teleporting squares that move the player to another spot. This is useful to avoid optimal \"back-and-forth\" policies.\n",
    "- A `.previewMove()` method to simulate given actions from a given start square.\n",
    "- A random effect (ice, wind, ...) that changes the effect of some actions.\n"
   ]
  },
  {
   "attachments": {},
   "cell_type": "markdown",
   "metadata": {},
   "source": [
    "### Testing"
   ]
  },
  {
   "attachments": {},
   "cell_type": "markdown",
   "metadata": {},
   "source": [
    "Below you can test individual aspects of your gridworld class with short code cells.\n",
    "\n",
    "You can re-run cells or run them out of order, but it is recommended that the notebook still works if you `Run All` in a fresh jupyter session.\n",
    "\n",
    "If you implemented an interactive `.play()` method, you might not be able to test it from inside a jupyter notebook."
   ]
  },
  {
   "cell_type": "code",
   "execution_count": 3,
   "metadata": {},
   "outputs": [],
   "source": [
    "# Create a new gridworld instance\n",
    "gw = GridWorld(5,7)\n",
    "gw.setWind([1,0])\n",
    "gw.setWind([0,1])\n",
    "gw.setTeleportation([1,1],[4,4],15)"
   ]
  },
  {
   "cell_type": "code",
   "execution_count": 4,
   "metadata": {},
   "outputs": [
    {
     "name": "stdout",
     "output_type": "stream",
     "text": [
      "[ 0 -1]\n",
      "-1\n",
      "_ _ _ _ F _ _\n",
      "_ _ _ _ _ _ _\n",
      "_ _ _ _ _ _ _\n",
      "W S _ _ _ _ _\n",
      "X W _ _ _ _ _\n",
      "[ 0 -1]\n",
      "-2\n",
      "_ _ _ _ F _ _\n",
      "_ _ _ _ _ _ _\n",
      "_ _ _ _ _ _ _\n",
      "W S _ _ _ _ _\n",
      "X W _ _ _ _ _\n",
      "[0 1]\n",
      "windy\n",
      "[1 1]\n",
      "teleport\n",
      "_ _ _ _ X _ _\n",
      "_ _ _ _ _ _ _\n",
      "_ _ _ _ _ _ _\n",
      "W S _ _ _ _ _\n",
      "_ W _ _ _ _ _\n",
      "[4 5]\n",
      "12\n",
      "_ _ _ _ X _ _\n",
      "_ _ _ _ _ _ _\n",
      "_ _ _ _ _ _ _\n",
      "W S _ _ _ _ _\n",
      "_ W _ _ _ _ _\n"
     ]
    }
   ],
   "source": [
    "# Take some arbitrary actions\n",
    "T=4\n",
    "for _ in range(T):\n",
    "    gw.step(random.choice(DIRECTION))\n",
    "    gw.drawWorld()\n",
    "\n"
   ]
  },
  {
   "cell_type": "code",
   "execution_count": 5,
   "metadata": {},
   "outputs": [],
   "source": [
    "inputDict={\"w\":UP,\"a\":LEFT,\"s\":DOWN,\"d\":RIGHT}"
   ]
  },
  {
   "cell_type": "code",
   "execution_count": 10,
   "metadata": {},
   "outputs": [
    {
     "name": "stdout",
     "output_type": "stream",
     "text": [
      "q  is not a direction. use WASD instead\n",
      "[7 4]\n",
      "1\n",
      "_ _ _ _ _ _ X\n",
      "_ _ _ _ _ _ _\n",
      "_ _ _ _ _ _ _\n",
      "W S _ _ _ _ _\n",
      "_ W _ _ _ _ _\n",
      "e  is not a direction. use WASD instead\n",
      "r  is not a direction. use WASD instead\n"
     ]
    }
   ],
   "source": [
    "# input handler\n",
    "path = input()\n",
    "for letter in path:\n",
    "    if letter in inputDict:\n",
    "        gw.step(inputDict[key])\n",
    "        gw.drawWorld()\n",
    "    else:\n",
    "        print( letter, \" is not a direction. use WASD instead\")"
   ]
  },
  {
   "cell_type": "code",
   "execution_count": null,
   "metadata": {},
   "outputs": [],
   "source": []
  }
 ],
 "metadata": {
  "kernelspec": {
   "display_name": "Python 3 (ipykernel)",
   "language": "python",
   "name": "python3"
  },
  "language_info": {
   "codemirror_mode": {
    "name": "ipython",
    "version": 3
   },
   "file_extension": ".py",
   "mimetype": "text/x-python",
   "name": "python",
   "nbconvert_exporter": "python",
   "pygments_lexer": "ipython3",
   "version": "3.10.12"
  },
  "vscode": {
   "interpreter": {
    "hash": "57c3bdca5a68245cc50b723d4c81bd24b2e1aa8df4f8df0134d90b967dbed3e1"
   }
  }
 },
 "nbformat": 4,
 "nbformat_minor": 2
}

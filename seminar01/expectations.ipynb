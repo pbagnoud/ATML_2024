{
 "cells": [
  {
   "cell_type": "markdown",
   "metadata": {},
   "source": [
    "# Computing expected values"
   ]
  },
  {
   "cell_type": "markdown",
   "metadata": {},
   "source": [
    "In this notebook we use Python to compute expected values of random variables.\n",
    "This is a very important \"ingredient\" in dynamic programming methods,\n",
    "used to evaluate and find policies in small Markov Decision Process settings."
   ]
  },
  {
   "cell_type": "markdown",
   "metadata": {},
   "source": [
    "*<span style=\"color:red\">Below, the parts indicated by `#??` need to be filled in!</span>*"
   ]
  },
  {
   "cell_type": "markdown",
   "metadata": {},
   "source": [
    "### Example 1: normal dice"
   ]
  },
  {
   "cell_type": "markdown",
   "metadata": {},
   "source": [
    "Consider a fair, 6-sided dice. We want to find the expected value of the number shown after a roll.\n",
    "This can easily be computed to be $1/6 \\sum_{k=1}^6 k = 3.5$.\n",
    "In more complicated settings, it is often easier to iterate over possible outcomes and compute the expectation in a more naive fashion."
   ]
  },
  {
   "cell_type": "code",
   "execution_count": 2,
   "metadata": {},
   "outputs": [
    {
     "name": "stdout",
     "output_type": "stream",
     "text": [
      "3.5\n"
     ]
    }
   ],
   "source": [
    "## Function that computes the expected payout\n",
    "def ePayout(k):\n",
    "    numbers = range(1,k+1)\n",
    "    probs = [1/k]*k\n",
    "    E = 0\n",
    "    for n, p in zip(numbers, probs):\n",
    "        E += n*p# ?? Compute \"contribution\" of this outcome\n",
    "    return E\n",
    "\n",
    "print(ePayout(6))"
   ]
  },
  {
   "cell_type": "code",
   "execution_count": 4,
   "metadata": {},
   "outputs": [
    {
     "name": "stdout",
     "output_type": "stream",
     "text": [
      "range(0, 5)\n"
     ]
    }
   ],
   "source": []
  },
  {
   "cell_type": "markdown",
   "metadata": {},
   "source": [
    "### Example 2: $n$-sided dice"
   ]
  },
  {
   "cell_type": "markdown",
   "metadata": {},
   "source": [
    "Consider the following \"game\":\n",
    "The player rolls a fair $n$-sided dice (labelled $1, 2, \\dots, n$) and receives a payout of $X^2$,\n",
    "where $X$ denotes the number shown by the dice.\n",
    "What is the expected payout?"
   ]
  },
  {
   "cell_type": "code",
   "execution_count": 8,
   "metadata": {},
   "outputs": [
    {
     "name": "stdout",
     "output_type": "stream",
     "text": [
      "2.5\n"
     ]
    }
   ],
   "source": [
    "## Function that computes the expected payout for n\n",
    "def ePayout(k):\n",
    "    numbers = [i**2 for i in range(1,k+1)]\n",
    "    probs = [1/k]*k\n",
    "    E = 0\n",
    "    for n, p in zip(numbers, probs):\n",
    "        E += n*p# ?? Compute \"contribution\" of this outcome\n",
    "    return E\n",
    "\n",
    "# Test for some value of n\n",
    "print(ePayout(2))"
   ]
  },
  {
   "cell_type": "markdown",
   "metadata": {},
   "source": [
    "*Bonus: this value can also be derived algebraically, using the identity $\\sum_{x=1}^n x^2 = n(n+1)(2n+1)/6$.*"
   ]
  },
  {
   "cell_type": "markdown",
   "metadata": {},
   "source": [
    "### Example 3: two-step game"
   ]
  },
  {
   "cell_type": "markdown",
   "metadata": {},
   "source": [
    "Consider the following \"game\":\n",
    "The player rolls a fair $n$-sided dice,\n",
    "let $X$ denote the result of this roll.\n",
    "If $X$ is odd, the player receives a payout of $-1$.\n",
    "If $X$ is even, the player draws a card from a deck labelled $(-2, -1, 0, 1, \\dots, X/2)$\n",
    "and receives a payout equal to the number drawn.\n",
    "What is the expected payout?"
   ]
  },
  {
   "cell_type": "code",
   "execution_count": 19,
   "metadata": {},
   "outputs": [
    {
     "name": "stdout",
     "output_type": "stream",
     "text": [
      "-1.0000\n",
      "-0.7500\n",
      "-0.8333\n",
      "-0.6250\n"
     ]
    }
   ],
   "source": [
    "def conditional_mean(m):\n",
    "    mean = sum(range(-2,int(m/2)+1))/(int(m/2)+3)\n",
    "    return mean\n",
    "## Function that computes the expected payout for n, m\n",
    "def ePayout(k):\n",
    "    numbers = [conditional_mean(i) if int(i) % 2 == 0  else -1 for i in range(1,k+1)]\n",
    "    probs = [1/k]*k\n",
    "    E = 0\n",
    "    for n, p in zip(numbers, probs):\n",
    "        E += n*p# ?? Compute \"contribution\" of this outcome\n",
    "    return E\n",
    "\n",
    "# Check values for some n\n",
    "for x in range(1, 5):\n",
    "    print(f'{ePayout(x):.4f}')"
   ]
  },
  {
   "cell_type": "markdown",
   "metadata": {},
   "source": [
    "We use here  $ \\mathbb{E}(X)=\\mathbb{E}(\\mathbb{E}(X|S))$"
   ]
  },
  {
   "cell_type": "markdown",
   "metadata": {},
   "source": [
    "### Monte Carlo"
   ]
  },
  {
   "cell_type": "markdown",
   "metadata": {},
   "source": [
    "The expectations above can also be estimated using Monte-Carlo estimation,\n",
    "repeating the experiment $N$ times for some large $N$."
   ]
  },
  {
   "cell_type": "code",
   "execution_count": 20,
   "metadata": {},
   "outputs": [],
   "source": [
    "# We need to generate random numbers to do this\n",
    "import random"
   ]
  },
  {
   "cell_type": "code",
   "execution_count": 21,
   "metadata": {},
   "outputs": [
    {
     "data": {
      "text/plain": [
       "3.553"
      ]
     },
     "execution_count": 21,
     "metadata": {},
     "output_type": "execute_result"
    }
   ],
   "source": [
    "## Example 1\n",
    "def mcPayout(N):\n",
    "    xList = [0] * N\n",
    "    for i in range(N):\n",
    "        xList[i] = random.randint(1, 6)\n",
    "    return sum(xList) / N\n",
    "\n",
    "# Run MC\n",
    "mcPayout(1000)"
   ]
  },
  {
   "cell_type": "code",
   "execution_count": 22,
   "metadata": {},
   "outputs": [
    {
     "data": {
      "text/plain": [
       "20.237"
      ]
     },
     "execution_count": 22,
     "metadata": {},
     "output_type": "execute_result"
    }
   ],
   "source": [
    "## Example 2\n",
    "def mcPayout(N, n):\n",
    "    xList = [0] * N\n",
    "    for i in range(N):\n",
    "        xList[i] = random.randint(1, n) **2\n",
    "    return sum(xList) / N\n",
    "# Run MC\n",
    "mcPayout(1000, 7)"
   ]
  },
  {
   "cell_type": "code",
   "execution_count": 27,
   "metadata": {},
   "outputs": [
    {
     "name": "stdout",
     "output_type": "stream",
     "text": [
      "-1.0\n",
      "-0.74988\n",
      "-0.83554\n",
      "-0.62246\n"
     ]
    }
   ],
   "source": [
    "## Example 3\n",
    "\n",
    "def mcPayout(N, n):\n",
    "    xList = [0] * N\n",
    "    for i in range(N):\n",
    "        dice =  random.randint(1, n)\n",
    "        if dice % 2 == 0:\n",
    "            xList[i] = random.randint(-2, int(dice/2))\n",
    "        else:\n",
    "            xList[i] = -1\n",
    "    return sum(xList) / N\n",
    "\n",
    "# Run MC\n",
    "for x in range(1, 5):\n",
    "    print(mcPayout(100000, x))"
   ]
  },
  {
   "cell_type": "code",
   "execution_count": null,
   "metadata": {},
   "outputs": [],
   "source": []
  }
 ],
 "metadata": {
  "kernelspec": {
   "display_name": "Python 3",
   "language": "python",
   "name": "python3"
  },
  "language_info": {
   "codemirror_mode": {
    "name": "ipython",
    "version": 3
   },
   "file_extension": ".py",
   "mimetype": "text/x-python",
   "name": "python",
   "nbconvert_exporter": "python",
   "pygments_lexer": "ipython3",
   "version": "3.10.12"
  }
 },
 "nbformat": 4,
 "nbformat_minor": 2
}
